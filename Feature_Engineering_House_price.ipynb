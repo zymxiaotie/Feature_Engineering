{
 "cells": [
  {
   "cell_type": "markdown",
   "metadata": {},
   "source": [
    "# Feature Engineering On House Price Data Set\n",
    "\n",
    "\n",
    "\n"
   ]
  },
  {
   "cell_type": "markdown",
   "metadata": {},
   "source": [
    "### Import required packages"
   ]
  },
  {
   "cell_type": "code",
   "execution_count": 1,
   "metadata": {},
   "outputs": [],
   "source": [
    "# to handle datasets\n",
    "import pandas as pd\n",
    "import numpy as np\n",
    "\n",
    "\n",
    "# to visualise al the columns in the dataframe\n",
    "pd.pandas.set_option('display.max_columns', None)\n",
    "# suppress some warning\n",
    "pd.options.mode.chained_assignment = None  # default='warn'\n",
    "\n",
    "# Add Imports here\n",
    "import matplotlib.pyplot as plt\n",
    "from scipy import stats\n",
    "from sklearn.model_selection import train_test_split\n",
    "from sklearn.preprocessing import OneHotEncoder, MinMaxScaler\n",
    "\n",
    "import warnings\n",
    "warnings.filterwarnings(\"ignore\")"
   ]
  },
  {
   "cell_type": "markdown",
   "metadata": {},
   "source": [
    "### Load the data and Plot a Histogram of the SalePrice column"
   ]
  },
  {
   "cell_type": "code",
   "execution_count": 2,
   "metadata": {},
   "outputs": [],
   "source": [
    "# load dataset from google drive\n",
    "# there are some columns has categorical data named as 'NA', to remove 'NA' from default na_values\n",
    "# will allow us to keep 'NA' as string instead of missing value\n",
    "url = \"https://drive.google.com/file/d/1saIeqrnkCHaZFqA8SHOwa4wb8xbxBGDi/view?usp=drive_link\"\n",
    "file_id = url.split('/')[-2]\n",
    "filePath = 'https://drive.google.com/uc?id=' + file_id\n",
    "data = pd.read_csv(filePath,\n",
    "                   na_values=[ '', '#N/A', '#N/A N/A', '#NA',#'NA'\n",
    "                              '-1.#IND', '-1.#QNAN', '-NaN', '-nan', '1.#IND', '1.#QNAN',\n",
    "                              '<NA>', 'N/A', 'NULL','NaN', 'n/a', 'nan', 'null'],\n",
    "                   keep_default_na=False)"
   ]
  },
  {
   "cell_type": "code",
   "execution_count": 3,
   "metadata": {},
   "outputs": [
    {
     "data": {
      "image/png": "[encoded data removed]",
      "text/plain": [
       "<Figure size 640x480 with 1 Axes>"
      ]
     },
     "metadata": {},
     "output_type": "display_data"
    }
   ],
   "source": [
    "data.hist(column='SalePrice',  bins = 250)\n",
    "plt.show()"
   ]
  },
  {
   "cell_type": "markdown",
   "metadata": {},
   "source": [
    "### Distribution\n",
    "\n",
    "The distribution of sales price is not normally distributed. We can prove it as below: <br>\n",
    "\n",
    "Assume the SalePrice data is normally distributed as null hypothesis H0. In normal distribution,approximatly, 68% of data is one standard deviation (1std) away from the mean value, while 95% of data is 2std away, 97.5% of data is 3std away. \n",
    "\n",
    "Let the alternative hypothesis be H1. \n",
    "\n",
    "Set alpha value to be 0.05"
   ]
  },
  {
   "cell_type": "code",
   "execution_count": 4,
   "metadata": {},
   "outputs": [
    {
     "name": "stdout",
     "output_type": "stream",
     "text": [
      "Mean: 180921.19589041095\n",
      "Standard deviation: 79442.50288288662\n",
      "total observations: 1460\n"
     ]
    },
    {
     "data": {
      "text/html": [
       "<div>\n",
       "<style scoped>\n",
       "    .dataframe tbody tr th:only-of-type {\n",
       "        vertical-align: middle;\n",
       "    }\n",
       "\n",
       "    .dataframe tbody tr th {\n",
       "        vertical-align: top;\n",
       "    }\n",
       "\n",
       "    .dataframe thead th {\n",
       "        text-align: right;\n",
       "    }\n",
       "</style>\n",
       "<table border=\"1\" class=\"dataframe\">\n",
       "  <thead>\n",
       "    <tr style=\"text-align: right;\">\n",
       "      <th></th>\n",
       "      <th>Range</th>\n",
       "      <th>Percentage</th>\n",
       "      <th>observedFreq</th>\n",
       "      <th>ExpectedFreq</th>\n",
       "    </tr>\n",
       "  </thead>\n",
       "  <tbody>\n",
       "    <tr>\n",
       "      <th>onestd</th>\n",
       "      <td>|x-mean|&lt;=std</td>\n",
       "      <td>0.680</td>\n",
       "      <td>1145</td>\n",
       "      <td>992.80</td>\n",
       "    </tr>\n",
       "    <tr>\n",
       "      <th>twostd</th>\n",
       "      <td>std&lt;|x-mean|&lt;=2std</td>\n",
       "      <td>0.270</td>\n",
       "      <td>252</td>\n",
       "      <td>394.20</td>\n",
       "    </tr>\n",
       "    <tr>\n",
       "      <th>threestd</th>\n",
       "      <td>2std&lt;|x-mean|&lt;=3std</td>\n",
       "      <td>0.047</td>\n",
       "      <td>41</td>\n",
       "      <td>68.62</td>\n",
       "    </tr>\n",
       "    <tr>\n",
       "      <th>threestdOver</th>\n",
       "      <td>3std&lt;|x-mean|</td>\n",
       "      <td>0.003</td>\n",
       "      <td>22</td>\n",
       "      <td>4.38</td>\n",
       "    </tr>\n",
       "  </tbody>\n",
       "</table>\n",
       "</div>"
      ],
      "text/plain": [
       "                            Range  Percentage  observedFreq  ExpectedFreq\n",
       "onestd              |x-mean|<=std       0.680          1145        992.80\n",
       "twostd         std<|x-mean|<=2std       0.270           252        394.20\n",
       "threestd      2std<|x-mean|<=3std       0.047            41         68.62\n",
       "threestdOver        3std<|x-mean|       0.003            22          4.38"
      ]
     },
     "execution_count": 4,
     "metadata": {},
     "output_type": "execute_result"
    }
   ],
   "source": [
    "# Test to check normality of the SalePrice column\n",
    "# do a normality test\n",
    "\n",
    "norm = pd.DataFrame({'Range':['|x-mean|<=std', 'std<|x-mean|<=2std', '2std<|x-mean|<=3std', '3std<|x-mean|'], \n",
    "                   'Percentage':[0.68, 0.27, 0.047, 0.003]}, index=['onestd', 'twostd', 'threestd', 'threestdOver'])\n",
    "# calculate SalePrice relative frequency for the same data distribution\n",
    "mean = data.SalePrice.mean() # calculate SalePrice mean value\n",
    "print(f\"Mean: {mean}\")\n",
    "std = data.SalePrice.std()  # calculate SalePrice standard deviation value\n",
    "print(f\"Standard deviation: {std}\")\n",
    "total = len(data.SalePrice)  # calculate the total number of observations\n",
    "print(f\"total observations: {total}\"  )\n",
    "\n",
    "onestd = 0\n",
    "twostd = 0\n",
    "threestd = 0\n",
    "threestdOver = 0\n",
    "for price in data.SalePrice:\n",
    "    if abs(price - mean) <= std:\n",
    "        onestd += 1\n",
    "    elif std<abs(price - mean)<=2*std:\n",
    "        twostd += 1\n",
    "    elif 2*std<abs(price - mean)<=3*std:\n",
    "        threestd += 1\n",
    "    else:\n",
    "        threestdOver +=1\n",
    "\n",
    "priceFreq = [onestd, twostd, threestd, threestdOver]\n",
    "norm['observedFreq'] = priceFreq\n",
    "norm['ExpectedFreq'] = [i*total for i in norm.Percentage]\n",
    "norm\n",
    "## can use the chi-square testing the normal distribution. P alpha=5%"
   ]
  },
  {
   "cell_type": "code",
   "execution_count": 5,
   "metadata": {},
   "outputs": [
    {
     "data": {
      "text/plain": [
       "Power_divergenceResult(statistic=156.6282410661729, pvalue=9.788843574336808e-34)"
      ]
     },
     "execution_count": 5,
     "metadata": {},
     "output_type": "execute_result"
    }
   ],
   "source": [
    "stats.chisquare(norm.observedFreq, norm.ExpectedFreq)"
   ]
  },
  {
   "cell_type": "code",
   "execution_count": 6,
   "metadata": {},
   "outputs": [
    {
     "name": "stdout",
     "output_type": "stream",
     "text": [
      "Chi-square stats: 156.6282410661729; p value: 9.788843574336808e-34\n",
      "Reject NULL HYPOTHESIS, SalePrice is not normally distributed\n"
     ]
    }
   ],
   "source": [
    "significance_level=0.05\n",
    "chiStats, p = stats.chisquare(norm.observedFreq, norm.ExpectedFreq)\n",
    "print(f\"Chi-square stats: {chiStats}; p value: {p}\")\n",
    "\n",
    "if p < significance_level: \n",
    "    print('Reject NULL HYPOTHESIS, SalePrice is not normally distributed') \n",
    "else: \n",
    "    print('ACCEPT NULL HYPOTHESIS') "
   ]
  },
  {
   "cell_type": "markdown",
   "metadata": {},
   "source": [
    "### Split data into Train and Test sub-datasets"
   ]
  },
  {
   "cell_type": "code",
   "execution_count": 7,
   "metadata": {},
   "outputs": [
    {
     "data": {
      "text/plain": [
       "((1022, 54), (438, 54))"
      ]
     },
     "execution_count": 7,
     "metadata": {},
     "output_type": "execute_result"
    }
   ],
   "source": [
    "### Split data into train and test sets \n",
    "X = data.drop(columns=['SalePrice'])\n",
    "y = data['SalePrice']\n",
    "\n",
    "X_train, X_test, y_train, y_test = train_test_split(\n",
    "    X, # features or predictive variables\n",
    "    y, # target\n",
    "    test_size=0.3, # portion of dataset to allocate to test set\n",
    "    random_state=10, # we are setting the seed here\n",
    ")\n",
    "\n",
    "X_train.shape, X_test.shape"
   ]
  },
  {
   "cell_type": "markdown",
   "metadata": {},
   "source": [
    "### Create a list of all categorical variables"
   ]
  },
  {
   "cell_type": "code",
   "execution_count": 8,
   "metadata": {},
   "outputs": [
    {
     "name": "stdout",
     "output_type": "stream",
     "text": [
      "<class 'pandas.core.frame.DataFrame'>\n",
      "RangeIndex: 1460 entries, 0 to 1459\n",
      "Data columns (total 55 columns):\n",
      " #   Column         Non-Null Count  Dtype  \n",
      "---  ------         --------------  -----  \n",
      " 0   LotFrontage    1201 non-null   float64\n",
      " 1   LotArea        1460 non-null   int64  \n",
      " 2   Alley          91 non-null     object \n",
      " 3   LandContour    1460 non-null   object \n",
      " 4   BldgType       1460 non-null   object \n",
      " 5   HouseStyle     1460 non-null   object \n",
      " 6   OverallQual    1460 non-null   int64  \n",
      " 7   OverallCond    1460 non-null   int64  \n",
      " 8   YearBuilt      1460 non-null   int64  \n",
      " 9   YearRemodAdd   1460 non-null   int64  \n",
      " 10  RoofStyle      1460 non-null   object \n",
      " 11  MasVnrArea     1452 non-null   float64\n",
      " 12  ExterQual      1460 non-null   object \n",
      " 13  ExterCond      1460 non-null   object \n",
      " 14  BsmtQual       1423 non-null   object \n",
      " 15  BsmtCond       1423 non-null   object \n",
      " 16  BsmtExposure   1422 non-null   object \n",
      " 17  BsmtFinType1   1423 non-null   object \n",
      " 18  BsmtFinSF1     1460 non-null   int64  \n",
      " 19  BsmtFinType2   1422 non-null   object \n",
      " 20  BsmtFinSF2     1460 non-null   int64  \n",
      " 21  BsmtUnfSF      1460 non-null   int64  \n",
      " 22  TotalBsmtSF    1460 non-null   int64  \n",
      " 23  HeatingQC      1460 non-null   object \n",
      " 24  1stFlrSF       1460 non-null   int64  \n",
      " 25  2ndFlrSF       1460 non-null   int64  \n",
      " 26  LowQualFinSF   1460 non-null   int64  \n",
      " 27  GrLivArea      1460 non-null   int64  \n",
      " 28  BsmtFullBath   1460 non-null   int64  \n",
      " 29  BsmtHalfBath   1460 non-null   int64  \n",
      " 30  FullBath       1460 non-null   int64  \n",
      " 31  HalfBath       1460 non-null   int64  \n",
      " 32  BedroomAbvGr   1460 non-null   int64  \n",
      " 33  KitchenAbvGr   1460 non-null   int64  \n",
      " 34  KitchenQual    1460 non-null   object \n",
      " 35  TotRmsAbvGrd   1460 non-null   int64  \n",
      " 36  Fireplaces     1460 non-null   int64  \n",
      " 37  FireplaceQu    770 non-null    object \n",
      " 38  GarageYrBlt    1379 non-null   float64\n",
      " 39  GarageFinish   1379 non-null   object \n",
      " 40  GarageCars     1460 non-null   int64  \n",
      " 41  GarageArea     1460 non-null   int64  \n",
      " 42  GarageQual     1379 non-null   object \n",
      " 43  GarageCond     1379 non-null   object \n",
      " 44  WoodDeckSF     1460 non-null   int64  \n",
      " 45  OpenPorchSF    1460 non-null   int64  \n",
      " 46  EnclosedPorch  1460 non-null   int64  \n",
      " 47  3SsnPorch      1460 non-null   int64  \n",
      " 48  ScreenPorch    1460 non-null   int64  \n",
      " 49  PoolArea       1460 non-null   int64  \n",
      " 50  Fence          281 non-null    object \n",
      " 51  MiscVal        1460 non-null   int64  \n",
      " 52  MoSold         1460 non-null   int64  \n",
      " 53  YrSold         1460 non-null   int64  \n",
      " 54  SalePrice      1460 non-null   int64  \n",
      "dtypes: float64(3), int64(33), object(19)\n",
      "memory usage: 627.5+ KB\n"
     ]
    }
   ],
   "source": [
    "# Checking the type of each variable\n",
    "data.info()"
   ]
  },
  {
   "cell_type": "code",
   "execution_count": 9,
   "metadata": {},
   "outputs": [
    {
     "data": {
      "text/plain": [
       "19"
      ]
     },
     "execution_count": 9,
     "metadata": {},
     "output_type": "execute_result"
    }
   ],
   "source": [
    "# let's identify the categorical variables\n",
    "# we will capture those of type object\n",
    "\n",
    "cat_vars = X.select_dtypes(include=['object']).columns\n",
    "\n",
    "# number of categorical variables\n",
    "len(cat_vars)"
   ]
  },
  {
   "cell_type": "markdown",
   "metadata": {},
   "source": [
    "### For X_train dataset, create a list of all categorical variables that contain missing data and print percentage of missing values per variable."
   ]
  },
  {
   "cell_type": "code",
   "execution_count": 10,
   "metadata": {},
   "outputs": [
    {
     "name": "stdout",
     "output_type": "stream",
     "text": [
      "['Alley', 'BsmtQual', 'BsmtCond', 'BsmtExposure', 'BsmtFinType1', 'BsmtFinType2', 'FireplaceQu', 'GarageFinish', 'GarageQual', 'GarageCond', 'Fence']\n"
     ]
    }
   ],
   "source": [
    "cat_vars_with_na=[]\n",
    "for col in cat_vars:\n",
    "    if data[col].isna().sum()>0:\n",
    "        cat_vars_with_na.append(col)\n",
    "\n",
    "print(cat_vars_with_na)"
   ]
  },
  {
   "cell_type": "code",
   "execution_count": 11,
   "metadata": {
    "scrolled": true
   },
   "outputs": [
    {
     "name": "stdout",
     "output_type": "stream",
     "text": [
      "Missing columns: ['Alley', 'BsmtQual', 'BsmtCond', 'BsmtExposure', 'BsmtFinType1', 'BsmtFinType2', 'FireplaceQu', 'GarageFinish', 'GarageQual', 'GarageCond', 'Fence'] \n",
      "\n",
      "               column_name  percent_missing\n",
      "Alley                Alley        93.444227\n",
      "Fence                Fence        80.528376\n",
      "FireplaceQu    FireplaceQu        46.868885\n",
      "GarageFinish  GarageFinish         5.381605\n",
      "GarageQual      GarageQual         5.381605\n",
      "GarageCond      GarageCond         5.381605\n",
      "BsmtQual          BsmtQual         2.544031\n",
      "BsmtCond          BsmtCond         2.544031\n",
      "BsmtExposure  BsmtExposure         2.544031\n",
      "BsmtFinType1  BsmtFinType1         2.544031\n",
      "BsmtFinType2  BsmtFinType2         2.544031\n"
     ]
    }
   ],
   "source": [
    "# make a list of the categorical variables that contain missing values\n",
    "cat_vars_with_na=[]\n",
    "for col in cat_vars:\n",
    "    if data[col].isna().sum()>0:\n",
    "        cat_vars_with_na.append(col)\n",
    "print(f'Missing columns: {cat_vars_with_na} \\n')\n",
    "\n",
    "# print percentage of missing values per variable\n",
    "percent_missing = X_train[cat_vars_with_na].isnull().sum() * 100 / len(X_train)\n",
    "cat_missing_percent = pd.DataFrame({'column_name': cat_vars_with_na,\n",
    "                                 'percent_missing': percent_missing}).sort_values('percent_missing', ascending=False)\n",
    "print(cat_missing_percent)\n",
    "#Code url: https://stackoverflow.com/questions/51070985/find-out-the-percentage-of-missing-values-in-each-column-in-the-given-dataset\n",
    "#Date accessed: 17-05-2022. "
   ]
  },
  {
   "cell_type": "markdown",
   "metadata": {},
   "source": [
    "### For categorical variables with more than 10% of data missing, replace missing data with the word 'Missing', in other variables replace the missing data with the most frequent category in  the training set (Apply the replacement to X_train and X_test and make sure it is based on the results you have obtained from the training set)."
   ]
  },
  {
   "cell_type": "code",
   "execution_count": 12,
   "metadata": {},
   "outputs": [],
   "source": [
    "# variables to impute with the string missing\n",
    "with_string_missing = cat_missing_percent[percent_missing>10].index\n",
    "\n",
    "# variables to impute with the most frequent category\n",
    "with_frequent_category = cat_missing_percent[percent_missing<=10].index"
   ]
  },
  {
   "cell_type": "code",
   "execution_count": 13,
   "metadata": {},
   "outputs": [
    {
     "name": "stdout",
     "output_type": "stream",
     "text": [
      "Index(['Alley', 'Fence', 'FireplaceQu'], dtype='object')\n",
      "Index(['GarageFinish', 'GarageQual', 'GarageCond', 'BsmtQual', 'BsmtCond',\n",
      "       'BsmtExposure', 'BsmtFinType1', 'BsmtFinType2'],\n",
      "      dtype='object')\n"
     ]
    }
   ],
   "source": [
    "print(with_string_missing)\n",
    "print(with_frequent_category)"
   ]
  },
  {
   "cell_type": "code",
   "execution_count": 14,
   "metadata": {},
   "outputs": [],
   "source": [
    "# replace missing values in X_train and X_test with new label: \"Missing\"\n",
    "\n",
    "#impute missing values for X_train   \n",
    "X_train[with_string_missing]=X_train[with_string_missing].fillna('Missing')\n",
    "\n",
    "#impute missing values for X_test\n",
    "X_test[with_string_missing]=X_test[with_string_missing].fillna('Missing')\n",
    "\n"
   ]
  },
  {
   "cell_type": "code",
   "execution_count": 15,
   "metadata": {},
   "outputs": [],
   "source": [
    "# replace missing values in X_train and X_test with the mode of each variable\n",
    "\n",
    "#impute missing values for X_train\n",
    "for col in with_frequent_category:\n",
    "    Mode=X_train[col].mode()[0]\n",
    "    X_train[col]=X_train[col].fillna(Mode)\n",
    "\n",
    "#impute missing values for X_test\n",
    "for col in with_frequent_category:\n",
    "    Mode=X_test[col].mode()[0]\n",
    "    X_test[col]=X_test[col].fillna(Mode)"
   ]
  },
  {
   "cell_type": "code",
   "execution_count": 16,
   "metadata": {},
   "outputs": [
    {
     "data": {
      "text/plain": [
       "Alley           0\n",
       "BsmtQual        0\n",
       "BsmtCond        0\n",
       "BsmtExposure    0\n",
       "BsmtFinType1    0\n",
       "BsmtFinType2    0\n",
       "FireplaceQu     0\n",
       "GarageFinish    0\n",
       "GarageQual      0\n",
       "GarageCond      0\n",
       "Fence           0\n",
       "dtype: int64"
      ]
     },
     "execution_count": 16,
     "metadata": {},
     "output_type": "execute_result"
    }
   ],
   "source": [
    "# check that we have no missing information in the engineered variables\n",
    "X_train[cat_vars_with_na].isnull().sum()"
   ]
  },
  {
   "cell_type": "markdown",
   "metadata": {},
   "source": [
    "### Next, create a list of all numerical variables (do not include SalePrice)"
   ]
  },
  {
   "cell_type": "code",
   "execution_count": 17,
   "metadata": {},
   "outputs": [
    {
     "data": {
      "text/plain": [
       "35"
      ]
     },
     "execution_count": 17,
     "metadata": {},
     "output_type": "execute_result"
    }
   ],
   "source": [
    "# now let's identify the numerical variables\n",
    "num_vars = X.select_dtypes(include=['int', 'float']).columns\n",
    "\n",
    "# number of numerical variables\n",
    "len(num_vars)"
   ]
  },
  {
   "cell_type": "markdown",
   "metadata": {},
   "source": [
    "### Similarly, create a list of all numerical variables that contain missing data and print out the percentage of missing values per variable (use the training data)."
   ]
  },
  {
   "cell_type": "code",
   "execution_count": 18,
   "metadata": {},
   "outputs": [
    {
     "name": "stdout",
     "output_type": "stream",
     "text": [
      "             column_name  num_percent_missing\n",
      "LotFrontage  LotFrontage            17.318982\n",
      "GarageYrBlt  GarageYrBlt             5.381605\n",
      "MasVnrArea    MasVnrArea             0.489237\n"
     ]
    }
   ],
   "source": [
    "# make a list with the numerical variables that contain missing values\n",
    "vars_with_na = []\n",
    "for col in num_vars:\n",
    "    if X_train[col].isna().sum()>0:\n",
    "        vars_with_na.append(col)\n",
    "\n",
    "# print percentage of missing values per variable\n",
    "num_percent_missing = X_train[vars_with_na].isnull().sum() * 100 / len(X_train)\n",
    "num_missing_percent = pd.DataFrame({'column_name': vars_with_na,\n",
    "                                 'num_percent_missing': num_percent_missing}).sort_values('num_percent_missing', ascending=False)\n",
    "print(num_missing_percent)"
   ]
  },
  {
   "cell_type": "markdown",
   "metadata": {},
   "source": [
    "### For numerical variables with less than 15% of data missing, replace missing data with the mean of the variable, in other variables replace the missing data with the median of the variable in the training set (Apply the replacement to X_train and X_test and make sure it is based on the results you have obtained from the training set)."
   ]
  },
  {
   "cell_type": "code",
   "execution_count": 19,
   "metadata": {},
   "outputs": [
    {
     "name": "stdout",
     "output_type": "stream",
     "text": [
      "Index(['GarageYrBlt', 'MasVnrArea'], dtype='object')\n",
      "Index(['LotFrontage'], dtype='object')\n"
     ]
    }
   ],
   "source": [
    "# variables to impute with the median\n",
    "with_mean = num_missing_percent[num_percent_missing<15].index\n",
    "print(with_mean)\n",
    "# variables to impute with the mean\n",
    "with_median = num_missing_percent[num_percent_missing>=15].index\n",
    "print(with_median)"
   ]
  },
  {
   "cell_type": "code",
   "execution_count": 20,
   "metadata": {},
   "outputs": [],
   "source": [
    "# replace missing values as we described above\n",
    "for col in with_mean:\n",
    "    Mean=X_train[col].mean()\n",
    "    X_train[col]=X_train[col].fillna(Mean)\n",
    "    X_test[col]=X_test[col].fillna(Mean)\n",
    "    \n",
    "for col in with_median:    \n",
    "    Median=X_train[col].median()\n",
    "    X_train[col]=X_train[col].fillna(Median)\n",
    "    X_test[col]=X_test[col].fillna(Median)           "
   ]
  },
  {
   "cell_type": "code",
   "execution_count": 21,
   "metadata": {
    "scrolled": true
   },
   "outputs": [
    {
     "data": {
      "text/plain": [
       "LotFrontage    0\n",
       "MasVnrArea     0\n",
       "GarageYrBlt    0\n",
       "dtype: int64"
      ]
     },
     "execution_count": 21,
     "metadata": {},
     "output_type": "execute_result"
    }
   ],
   "source": [
    "# check that we have no more missing values in the engineered variables\n",
    "X_test[vars_with_na].isnull().sum()"
   ]
  },
  {
   "cell_type": "markdown",
   "metadata": {},
   "source": [
    "### In the train and test sets, replace the values of variables 'YearBuilt', 'YearRemodAdd' and 'GarageYrBlt' with the time elapsed between them and the year in which the house was sold 'YrSold' and then drop the  'YrSold' column "
   ]
  },
  {
   "cell_type": "code",
   "execution_count": 22,
   "metadata": {},
   "outputs": [],
   "source": [
    "# columns to be replaced with time elapse from column value to \"YrSold\"\n",
    "YrElapsed = [\"YearBuilt\", 'YearRemodAdd', 'GarageYrBlt']"
   ]
  },
  {
   "cell_type": "code",
   "execution_count": 23,
   "metadata": {},
   "outputs": [],
   "source": [
    "# to calculate the time elapsed between YrElapsed variables and \"YrSold\":\n",
    "def ToYrElapsed(df, cols):\n",
    "    '''Add Docstring here.'''\n",
    "    for col in cols:\n",
    "        df[col]=df['YrSold']-df[col]    \n"
   ]
  },
  {
   "cell_type": "code",
   "execution_count": 24,
   "metadata": {},
   "outputs": [],
   "source": [
    "ToYrElapsed(X_train,YrElapsed)\n",
    "ToYrElapsed(X_test,YrElapsed)"
   ]
  },
  {
   "cell_type": "code",
   "execution_count": 25,
   "metadata": {},
   "outputs": [],
   "source": [
    "# now we drop YrSold\n",
    "X_train.drop(['YrSold'], axis=1, inplace=True)\n",
    "X_test.drop(['YrSold'], axis=1, inplace=True)"
   ]
  },
  {
   "cell_type": "code",
   "execution_count": 26,
   "metadata": {},
   "outputs": [
    {
     "data": {
      "text/html": [
       "<div>\n",
       "<style scoped>\n",
       "    .dataframe tbody tr th:only-of-type {\n",
       "        vertical-align: middle;\n",
       "    }\n",
       "\n",
       "    .dataframe tbody tr th {\n",
       "        vertical-align: top;\n",
       "    }\n",
       "\n",
       "    .dataframe thead th {\n",
       "        text-align: right;\n",
       "    }\n",
       "</style>\n",
       "<table border=\"1\" class=\"dataframe\">\n",
       "  <thead>\n",
       "    <tr style=\"text-align: right;\">\n",
       "      <th></th>\n",
       "      <th>LotFrontage</th>\n",
       "      <th>LotArea</th>\n",
       "      <th>Alley</th>\n",
       "      <th>LandContour</th>\n",
       "      <th>BldgType</th>\n",
       "      <th>HouseStyle</th>\n",
       "      <th>OverallQual</th>\n",
       "      <th>OverallCond</th>\n",
       "      <th>YearBuilt</th>\n",
       "      <th>YearRemodAdd</th>\n",
       "      <th>RoofStyle</th>\n",
       "      <th>MasVnrArea</th>\n",
       "      <th>ExterQual</th>\n",
       "      <th>ExterCond</th>\n",
       "      <th>BsmtQual</th>\n",
       "      <th>BsmtCond</th>\n",
       "      <th>BsmtExposure</th>\n",
       "      <th>BsmtFinType1</th>\n",
       "      <th>BsmtFinSF1</th>\n",
       "      <th>BsmtFinType2</th>\n",
       "      <th>BsmtFinSF2</th>\n",
       "      <th>BsmtUnfSF</th>\n",
       "      <th>TotalBsmtSF</th>\n",
       "      <th>HeatingQC</th>\n",
       "      <th>1stFlrSF</th>\n",
       "      <th>2ndFlrSF</th>\n",
       "      <th>LowQualFinSF</th>\n",
       "      <th>GrLivArea</th>\n",
       "      <th>BsmtFullBath</th>\n",
       "      <th>BsmtHalfBath</th>\n",
       "      <th>FullBath</th>\n",
       "      <th>HalfBath</th>\n",
       "      <th>BedroomAbvGr</th>\n",
       "      <th>KitchenAbvGr</th>\n",
       "      <th>KitchenQual</th>\n",
       "      <th>TotRmsAbvGrd</th>\n",
       "      <th>Fireplaces</th>\n",
       "      <th>FireplaceQu</th>\n",
       "      <th>GarageYrBlt</th>\n",
       "      <th>GarageFinish</th>\n",
       "      <th>GarageCars</th>\n",
       "      <th>GarageArea</th>\n",
       "      <th>GarageQual</th>\n",
       "      <th>GarageCond</th>\n",
       "      <th>WoodDeckSF</th>\n",
       "      <th>OpenPorchSF</th>\n",
       "      <th>EnclosedPorch</th>\n",
       "      <th>3SsnPorch</th>\n",
       "      <th>ScreenPorch</th>\n",
       "      <th>PoolArea</th>\n",
       "      <th>Fence</th>\n",
       "      <th>MiscVal</th>\n",
       "      <th>MoSold</th>\n",
       "    </tr>\n",
       "  </thead>\n",
       "  <tbody>\n",
       "    <tr>\n",
       "      <th>912</th>\n",
       "      <td>51.0</td>\n",
       "      <td>6120</td>\n",
       "      <td>Missing</td>\n",
       "      <td>Lvl</td>\n",
       "      <td>1Fam</td>\n",
       "      <td>1Story</td>\n",
       "      <td>5</td>\n",
       "      <td>7</td>\n",
       "      <td>81</td>\n",
       "      <td>56</td>\n",
       "      <td>Gable</td>\n",
       "      <td>0.0</td>\n",
       "      <td>TA</td>\n",
       "      <td>TA</td>\n",
       "      <td>TA</td>\n",
       "      <td>TA</td>\n",
       "      <td>No</td>\n",
       "      <td>Rec</td>\n",
       "      <td>489</td>\n",
       "      <td>Unf</td>\n",
       "      <td>0</td>\n",
       "      <td>279</td>\n",
       "      <td>768</td>\n",
       "      <td>TA</td>\n",
       "      <td>1015</td>\n",
       "      <td>0</td>\n",
       "      <td>0</td>\n",
       "      <td>1015</td>\n",
       "      <td>0</td>\n",
       "      <td>0</td>\n",
       "      <td>1</td>\n",
       "      <td>0</td>\n",
       "      <td>3</td>\n",
       "      <td>1</td>\n",
       "      <td>TA</td>\n",
       "      <td>6</td>\n",
       "      <td>0</td>\n",
       "      <td>Missing</td>\n",
       "      <td>81.0</td>\n",
       "      <td>Unf</td>\n",
       "      <td>1</td>\n",
       "      <td>450</td>\n",
       "      <td>TA</td>\n",
       "      <td>TA</td>\n",
       "      <td>0</td>\n",
       "      <td>0</td>\n",
       "      <td>112</td>\n",
       "      <td>0</td>\n",
       "      <td>120</td>\n",
       "      <td>0</td>\n",
       "      <td>MnPrv</td>\n",
       "      <td>620</td>\n",
       "      <td>7</td>\n",
       "    </tr>\n",
       "    <tr>\n",
       "      <th>373</th>\n",
       "      <td>79.0</td>\n",
       "      <td>10634</td>\n",
       "      <td>Missing</td>\n",
       "      <td>Lvl</td>\n",
       "      <td>1Fam</td>\n",
       "      <td>1Story</td>\n",
       "      <td>5</td>\n",
       "      <td>6</td>\n",
       "      <td>56</td>\n",
       "      <td>56</td>\n",
       "      <td>Gable</td>\n",
       "      <td>0.0</td>\n",
       "      <td>TA</td>\n",
       "      <td>TA</td>\n",
       "      <td>TA</td>\n",
       "      <td>TA</td>\n",
       "      <td>No</td>\n",
       "      <td>BLQ</td>\n",
       "      <td>428</td>\n",
       "      <td>LwQ</td>\n",
       "      <td>180</td>\n",
       "      <td>0</td>\n",
       "      <td>608</td>\n",
       "      <td>TA</td>\n",
       "      <td>1319</td>\n",
       "      <td>0</td>\n",
       "      <td>0</td>\n",
       "      <td>1319</td>\n",
       "      <td>1</td>\n",
       "      <td>0</td>\n",
       "      <td>1</td>\n",
       "      <td>0</td>\n",
       "      <td>3</td>\n",
       "      <td>1</td>\n",
       "      <td>TA</td>\n",
       "      <td>5</td>\n",
       "      <td>0</td>\n",
       "      <td>Missing</td>\n",
       "      <td>56.0</td>\n",
       "      <td>Unf</td>\n",
       "      <td>1</td>\n",
       "      <td>270</td>\n",
       "      <td>TA</td>\n",
       "      <td>TA</td>\n",
       "      <td>66</td>\n",
       "      <td>0</td>\n",
       "      <td>0</td>\n",
       "      <td>0</td>\n",
       "      <td>0</td>\n",
       "      <td>0</td>\n",
       "      <td>GdWo</td>\n",
       "      <td>0</td>\n",
       "      <td>11</td>\n",
       "    </tr>\n",
       "    <tr>\n",
       "      <th>20</th>\n",
       "      <td>101.0</td>\n",
       "      <td>14215</td>\n",
       "      <td>Missing</td>\n",
       "      <td>Lvl</td>\n",
       "      <td>1Fam</td>\n",
       "      <td>2Story</td>\n",
       "      <td>8</td>\n",
       "      <td>5</td>\n",
       "      <td>1</td>\n",
       "      <td>0</td>\n",
       "      <td>Gable</td>\n",
       "      <td>380.0</td>\n",
       "      <td>Gd</td>\n",
       "      <td>TA</td>\n",
       "      <td>Ex</td>\n",
       "      <td>TA</td>\n",
       "      <td>Av</td>\n",
       "      <td>Unf</td>\n",
       "      <td>0</td>\n",
       "      <td>Unf</td>\n",
       "      <td>0</td>\n",
       "      <td>1158</td>\n",
       "      <td>1158</td>\n",
       "      <td>Ex</td>\n",
       "      <td>1158</td>\n",
       "      <td>1218</td>\n",
       "      <td>0</td>\n",
       "      <td>2376</td>\n",
       "      <td>0</td>\n",
       "      <td>0</td>\n",
       "      <td>3</td>\n",
       "      <td>1</td>\n",
       "      <td>4</td>\n",
       "      <td>1</td>\n",
       "      <td>Gd</td>\n",
       "      <td>9</td>\n",
       "      <td>1</td>\n",
       "      <td>Gd</td>\n",
       "      <td>1.0</td>\n",
       "      <td>RFn</td>\n",
       "      <td>3</td>\n",
       "      <td>853</td>\n",
       "      <td>TA</td>\n",
       "      <td>TA</td>\n",
       "      <td>240</td>\n",
       "      <td>154</td>\n",
       "      <td>0</td>\n",
       "      <td>0</td>\n",
       "      <td>0</td>\n",
       "      <td>0</td>\n",
       "      <td>Missing</td>\n",
       "      <td>0</td>\n",
       "      <td>11</td>\n",
       "    </tr>\n",
       "  </tbody>\n",
       "</table>\n",
       "</div>"
      ],
      "text/plain": [
       "     LotFrontage  LotArea    Alley LandContour BldgType HouseStyle   \n",
       "912         51.0     6120  Missing         Lvl     1Fam     1Story  \\\n",
       "373         79.0    10634  Missing         Lvl     1Fam     1Story   \n",
       "20         101.0    14215  Missing         Lvl     1Fam     2Story   \n",
       "\n",
       "     OverallQual  OverallCond  YearBuilt  YearRemodAdd RoofStyle  MasVnrArea   \n",
       "912            5            7         81            56     Gable         0.0  \\\n",
       "373            5            6         56            56     Gable         0.0   \n",
       "20             8            5          1             0     Gable       380.0   \n",
       "\n",
       "    ExterQual ExterCond BsmtQual BsmtCond BsmtExposure BsmtFinType1   \n",
       "912        TA        TA       TA       TA           No          Rec  \\\n",
       "373        TA        TA       TA       TA           No          BLQ   \n",
       "20         Gd        TA       Ex       TA           Av          Unf   \n",
       "\n",
       "     BsmtFinSF1 BsmtFinType2  BsmtFinSF2  BsmtUnfSF  TotalBsmtSF HeatingQC   \n",
       "912         489          Unf           0        279          768        TA  \\\n",
       "373         428          LwQ         180          0          608        TA   \n",
       "20            0          Unf           0       1158         1158        Ex   \n",
       "\n",
       "     1stFlrSF  2ndFlrSF  LowQualFinSF  GrLivArea  BsmtFullBath  BsmtHalfBath   \n",
       "912      1015         0             0       1015             0             0  \\\n",
       "373      1319         0             0       1319             1             0   \n",
       "20       1158      1218             0       2376             0             0   \n",
       "\n",
       "     FullBath  HalfBath  BedroomAbvGr  KitchenAbvGr KitchenQual  TotRmsAbvGrd   \n",
       "912         1         0             3             1          TA             6  \\\n",
       "373         1         0             3             1          TA             5   \n",
       "20          3         1             4             1          Gd             9   \n",
       "\n",
       "     Fireplaces FireplaceQu  GarageYrBlt GarageFinish  GarageCars  GarageArea   \n",
       "912           0     Missing         81.0          Unf           1         450  \\\n",
       "373           0     Missing         56.0          Unf           1         270   \n",
       "20            1          Gd          1.0          RFn           3         853   \n",
       "\n",
       "    GarageQual GarageCond  WoodDeckSF  OpenPorchSF  EnclosedPorch  3SsnPorch   \n",
       "912         TA         TA           0            0            112          0  \\\n",
       "373         TA         TA          66            0              0          0   \n",
       "20          TA         TA         240          154              0          0   \n",
       "\n",
       "     ScreenPorch  PoolArea    Fence  MiscVal  MoSold  \n",
       "912          120         0    MnPrv      620       7  \n",
       "373            0         0     GdWo        0      11  \n",
       "20             0         0  Missing        0      11  "
      ]
     },
     "execution_count": 26,
     "metadata": {},
     "output_type": "execute_result"
    }
   ],
   "source": [
    "X_train.head(3)"
   ]
  },
  {
   "cell_type": "markdown",
   "metadata": {},
   "source": [
    "### Apply mappings to categorical variables that have an order \n",
    "\n",
    "Some of the categorical variables have values with an assigned order (in total there should be 14 of them), related to quality (For more information, check the data description file). This means, we can replace categories by numbers to determine quality. For example, values in the 'BsmtExposure' can be mapped as follows: 'No' can be mapped to 1, 'Mn' can be mapped to 2, 'Av' can be mapped to 3 and 'Gd' can be mapped to 4. \n",
    "\n",
    "One way of doing this is to manually create mappings similar to the example given. Each mapping can be saved as a Python dictionary and used to perform the actual mapping to transform the described variables from categorical to numerical.\n",
    "\n",
    "To Make it easier for you, here are groups of variables that have the same mappings (Hint: you can map both categories 'Missing' and 'NA' to 0): \n",
    "\n",
    "- The following variable groups have the same mapping: \n",
    "    - ['ExterQual', 'ExterCond', 'BsmtQual', 'BsmtCond', 'HeatingQC', 'KitchenQual', 'FireplaceQu','GarageQual', 'GarageCond']\n",
    "    - ['BsmtFinType1', 'BsmtFinType2']\n",
    "\n",
    "- Each of the following variables has its own mapping: 'BsmtExposure', 'GarageFinish', 'Fence'"
   ]
  },
  {
   "cell_type": "code",
   "execution_count": 27,
   "metadata": {},
   "outputs": [],
   "source": [
    "# re-map strings to numbers, which determine quality\n",
    "\n",
    "qual_mappings = {'Po': 1, 'Fa': 2, 'TA': 3, 'Gd': 4, 'Ex': 5, 'Missing': 0, 'NA': 0}\n",
    "\n",
    "qual_vars = ['ExterQual', 'ExterCond', 'BsmtQual', 'BsmtCond',\n",
    "             'HeatingQC', 'KitchenQual', 'FireplaceQu',\n",
    "             'GarageQual', 'GarageCond'\n",
    "            ]\n",
    "\n",
    "\n",
    "## Loop through the variables and apply the mapping here\n",
    "# Apply mapping on the train and test sets\n",
    "def mapToNum(df,cols,mappings):\n",
    "    '''Add Docstring here.'''    \n",
    "    for col in cols:\n",
    "        df[col]=df[col].map(mappings)\n",
    "\n",
    "mapToNum(X_train, qual_vars, qual_mappings)\n",
    "mapToNum(X_test, qual_vars, qual_mappings)"
   ]
  },
  {
   "cell_type": "code",
   "execution_count": 28,
   "metadata": {},
   "outputs": [],
   "source": [
    "exposure_mappings = {'No': 1, 'Mn': 2, 'Av': 3, 'Gd': 4}\n",
    "\n",
    "var = 'BsmtExposure'\n",
    "var_list = ['BsmtExposure']\n",
    "# Apply mapping on the train and test sets\n",
    "mapToNum(X_train, var_list, exposure_mappings)\n",
    "mapToNum(X_test, var_list, exposure_mappings)\n"
   ]
  },
  {
   "cell_type": "code",
   "execution_count": 29,
   "metadata": {},
   "outputs": [],
   "source": [
    "finish_mappings = {'Missing': 0, 'NA': 0, 'Unf': 1, 'LwQ': 2, 'Rec': 3, 'BLQ': 4, 'ALQ': 5, 'GLQ': 6}\n",
    "\n",
    "finish_vars = ['BsmtFinType1', 'BsmtFinType2']\n",
    "\n",
    "# Apply mapping on the train and test sets\n",
    "mapToNum(X_train, finish_vars, finish_mappings)\n",
    "mapToNum(X_test, finish_vars, finish_mappings)\n"
   ]
  },
  {
   "cell_type": "code",
   "execution_count": 30,
   "metadata": {},
   "outputs": [
    {
     "data": {
      "text/plain": [
       "GarageFinish\n",
       "Unf    468\n",
       "RFn    301\n",
       "Fin    253\n",
       "Name: count, dtype: int64"
      ]
     },
     "execution_count": 30,
     "metadata": {},
     "output_type": "execute_result"
    }
   ],
   "source": [
    "X_train['GarageFinish'].value_counts()"
   ]
  },
  {
   "cell_type": "code",
   "execution_count": 31,
   "metadata": {},
   "outputs": [],
   "source": [
    "garage_mappings = {'Missing': 0, 'NA': 0, 'Unf': 1, 'RFn': 2, 'Fin': 3}\n",
    "\n",
    "var = 'GarageFinish'\n",
    "\n",
    "# Apply mapping on the train and test sets\n",
    "var_garage = ['GarageFinish']\n",
    "mapToNum(X_train, var_garage, garage_mappings)\n",
    "mapToNum(X_test, var_garage, garage_mappings)"
   ]
  },
  {
   "cell_type": "code",
   "execution_count": 32,
   "metadata": {},
   "outputs": [],
   "source": [
    "fence_mappings = {'Missing': 0, 'NA': 0, 'MnWw': 1, 'GdWo': 2, 'MnPrv': 3, 'GdPrv': 4}\n",
    "\n",
    "var = 'Fence'\n",
    "\n",
    "# Apply mapping on the train and test sets\n",
    "var_fence = ['Fence']\n",
    "mapToNum(X_train, var_fence, fence_mappings)\n",
    "mapToNum(X_test, var_fence, fence_mappings)"
   ]
  },
  {
   "cell_type": "code",
   "execution_count": 33,
   "metadata": {},
   "outputs": [
    {
     "data": {
      "text/plain": [
       "[]"
      ]
     },
     "execution_count": 33,
     "metadata": {},
     "output_type": "execute_result"
    }
   ],
   "source": [
    "# check absence of na in the train set\n",
    "[var for var in X_train.columns if X_train[var].isnull().sum() > 0]"
   ]
  },
  {
   "cell_type": "markdown",
   "metadata": {},
   "source": [
    "### Replace Rare Labels with 'Rare'\n",
    "\n",
    "For the remaining five categorical variables (the variables that you did not apply value mappings to, they should be five variables), you will need to group those categories that are present in less than 1% of the observations in the **training set**. That is, all values of categorical variables that are shared by less than 1% of houses in the training set will be replaced by the string \"Rare\" in both the training and test set. \n",
    "\n",
    "- Find rare labels in the remaining categorical variables and replace them with the category 'Rare'.\n",
    "- Rare labels are those categories that only appear in a small percentage of the observations (in our case in < 1%).\n",
    "- If you look at unique values in a categorical variable in the training set and count how many times each of the unique values appear in the variable, you can compute the percentage of each unique value by dividing its count by the total number of observations.\n",
    "- Remember to make the computions using the training set and replacement in both training and test sets."
   ]
  },
  {
   "cell_type": "code",
   "execution_count": 34,
   "metadata": {},
   "outputs": [
    {
     "data": {
      "text/plain": [
       "5"
      ]
     },
     "execution_count": 34,
     "metadata": {},
     "output_type": "execute_result"
    }
   ],
   "source": [
    "# capture all quality variables\n",
    "\n",
    "qual_vars  = qual_vars + finish_vars + ['BsmtExposure','GarageFinish','Fence']\n",
    "\n",
    "# capture the remaining categorical variables\n",
    "# (those that we did not re-map)\n",
    "\n",
    "cat_others = [\n",
    "    var for var in cat_vars if var not in qual_vars\n",
    "]\n",
    "\n",
    "len(cat_others)"
   ]
  },
  {
   "cell_type": "code",
   "execution_count": 35,
   "metadata": {},
   "outputs": [
    {
     "name": "stdout",
     "output_type": "stream",
     "text": [
      "['1.5Unf', '2.5Unf', '2.5Fin', 'Gambrel', 'Flat', 'Mansard', 'Shed']\n"
     ]
    }
   ],
   "source": [
    "# create a list matching the categories less than 1% frequent to string \"Rare\"\n",
    "rare=[]\n",
    "for col in cat_others:    \n",
    "    find = X_train[col].value_counts()*100/len(X_train[col])\n",
    "    for i in range(len(find)):\n",
    "        if find[i]<1:\n",
    "            Loc = find.index[i]\n",
    "            rare.append(Loc)\n",
    "            \n",
    "print(rare)            "
   ]
  },
  {
   "cell_type": "code",
   "execution_count": 36,
   "metadata": {},
   "outputs": [],
   "source": [
    "# Apply replacement on the train and test sets\n",
    "for col in cat_others:\n",
    "    for i in rare:\n",
    "        X_train[col].replace(i, 'Rare',inplace=True)\n",
    "\n",
    "for col in cat_others:\n",
    "    for i in rare:\n",
    "        X_test[col].replace(i,'Rare', inplace=True) "
   ]
  },
  {
   "cell_type": "code",
   "execution_count": 37,
   "metadata": {},
   "outputs": [],
   "source": [
    "# for col in cat_others:    \n",
    "#     find = X_train[col].value_counts()*100/len(X_train[col])\n",
    "#     OnePercent=find[find<1].index\n",
    "#     print([var for var in OnePercent if var != []])"
   ]
  },
  {
   "cell_type": "markdown",
   "metadata": {},
   "source": [
    "### One hot encoding of categorical variables \n",
    "Perform one hot encoding to transform the previous five categorical variables into binary variables. Make sure you do it correctly for both the training and testing sets. After this, remember to drop the original five categorical variables (the ones with the strings) from the training and test after the encoding."
   ]
  },
  {
   "cell_type": "code",
   "execution_count": 38,
   "metadata": {},
   "outputs": [],
   "source": [
    "# # one hot encoding for X_train\n",
    "# for col in cat_others:\n",
    "#     col_cats=X_train[col].unique()\n",
    "#     var_to_int = dict((v,i) for i,v in enumerate(col_cats))\n",
    "#     int_to_var = dict((i,v) for i,v in enumerate(col_cats))\n",
    "#     ColIndexing = [var_to_int[var] for var in X_train[col]]\n",
    "\n",
    "#     OHE=[]\n",
    "#     for i in ColIndexing:\n",
    "#         vector = [0 for i in range(1,len(col_cats))]\n",
    "#         #print(vector)\n",
    "#         if i == 0:\n",
    "#             vector[i]=0\n",
    "#         else:\n",
    "#             vector[i-1]=1\n",
    "\n",
    "#         var=int_to_var[i]\n",
    "#         OHE.append(vector)\n",
    "#     X_train['OHE %s ' % col]=OHE             \n",
    "# X_train.drop(cat_others, axis=1, inplace=True)\n",
    "# X_train.head(2) "
   ]
  },
  {
   "cell_type": "code",
   "execution_count": 39,
   "metadata": {},
   "outputs": [],
   "source": [
    "ohe=pd.get_dummies(X_train[cat_others], prefix=cat_others, drop_first=True)\n",
    "X_train=pd.concat([X_train,ohe], axis=1)"
   ]
  },
  {
   "cell_type": "code",
   "execution_count": 40,
   "metadata": {},
   "outputs": [],
   "source": [
    "X_train.drop(cat_others, axis=1, inplace=True)"
   ]
  },
  {
   "cell_type": "code",
   "execution_count": 41,
   "metadata": {},
   "outputs": [
    {
     "data": {
      "text/html": [
       "<div>\n",
       "<style scoped>\n",
       "    .dataframe tbody tr th:only-of-type {\n",
       "        vertical-align: middle;\n",
       "    }\n",
       "\n",
       "    .dataframe tbody tr th {\n",
       "        vertical-align: top;\n",
       "    }\n",
       "\n",
       "    .dataframe thead th {\n",
       "        text-align: right;\n",
       "    }\n",
       "</style>\n",
       "<table border=\"1\" class=\"dataframe\">\n",
       "  <thead>\n",
       "    <tr style=\"text-align: right;\">\n",
       "      <th></th>\n",
       "      <th>LotFrontage</th>\n",
       "      <th>LotArea</th>\n",
       "      <th>OverallQual</th>\n",
       "      <th>OverallCond</th>\n",
       "      <th>YearBuilt</th>\n",
       "      <th>YearRemodAdd</th>\n",
       "      <th>MasVnrArea</th>\n",
       "      <th>ExterQual</th>\n",
       "      <th>ExterCond</th>\n",
       "      <th>BsmtQual</th>\n",
       "      <th>BsmtCond</th>\n",
       "      <th>BsmtExposure</th>\n",
       "      <th>BsmtFinType1</th>\n",
       "      <th>BsmtFinSF1</th>\n",
       "      <th>BsmtFinType2</th>\n",
       "      <th>BsmtFinSF2</th>\n",
       "      <th>BsmtUnfSF</th>\n",
       "      <th>TotalBsmtSF</th>\n",
       "      <th>HeatingQC</th>\n",
       "      <th>1stFlrSF</th>\n",
       "      <th>2ndFlrSF</th>\n",
       "      <th>LowQualFinSF</th>\n",
       "      <th>GrLivArea</th>\n",
       "      <th>BsmtFullBath</th>\n",
       "      <th>BsmtHalfBath</th>\n",
       "      <th>FullBath</th>\n",
       "      <th>HalfBath</th>\n",
       "      <th>BedroomAbvGr</th>\n",
       "      <th>KitchenAbvGr</th>\n",
       "      <th>KitchenQual</th>\n",
       "      <th>TotRmsAbvGrd</th>\n",
       "      <th>Fireplaces</th>\n",
       "      <th>FireplaceQu</th>\n",
       "      <th>GarageYrBlt</th>\n",
       "      <th>GarageFinish</th>\n",
       "      <th>GarageCars</th>\n",
       "      <th>GarageArea</th>\n",
       "      <th>GarageQual</th>\n",
       "      <th>GarageCond</th>\n",
       "      <th>WoodDeckSF</th>\n",
       "      <th>OpenPorchSF</th>\n",
       "      <th>EnclosedPorch</th>\n",
       "      <th>3SsnPorch</th>\n",
       "      <th>ScreenPorch</th>\n",
       "      <th>PoolArea</th>\n",
       "      <th>Fence</th>\n",
       "      <th>MiscVal</th>\n",
       "      <th>MoSold</th>\n",
       "      <th>Alley_Missing</th>\n",
       "      <th>Alley_Pave</th>\n",
       "      <th>LandContour_HLS</th>\n",
       "      <th>LandContour_Low</th>\n",
       "      <th>LandContour_Lvl</th>\n",
       "      <th>BldgType_2fmCon</th>\n",
       "      <th>BldgType_Duplex</th>\n",
       "      <th>BldgType_Twnhs</th>\n",
       "      <th>BldgType_TwnhsE</th>\n",
       "      <th>HouseStyle_1Story</th>\n",
       "      <th>HouseStyle_2Story</th>\n",
       "      <th>HouseStyle_Rare</th>\n",
       "      <th>HouseStyle_SFoyer</th>\n",
       "      <th>HouseStyle_SLvl</th>\n",
       "      <th>RoofStyle_Hip</th>\n",
       "      <th>RoofStyle_Rare</th>\n",
       "    </tr>\n",
       "  </thead>\n",
       "  <tbody>\n",
       "    <tr>\n",
       "      <th>912</th>\n",
       "      <td>51.0</td>\n",
       "      <td>6120</td>\n",
       "      <td>5</td>\n",
       "      <td>7</td>\n",
       "      <td>81</td>\n",
       "      <td>56</td>\n",
       "      <td>0.0</td>\n",
       "      <td>3</td>\n",
       "      <td>3</td>\n",
       "      <td>3</td>\n",
       "      <td>3</td>\n",
       "      <td>1</td>\n",
       "      <td>3</td>\n",
       "      <td>489</td>\n",
       "      <td>1</td>\n",
       "      <td>0</td>\n",
       "      <td>279</td>\n",
       "      <td>768</td>\n",
       "      <td>3</td>\n",
       "      <td>1015</td>\n",
       "      <td>0</td>\n",
       "      <td>0</td>\n",
       "      <td>1015</td>\n",
       "      <td>0</td>\n",
       "      <td>0</td>\n",
       "      <td>1</td>\n",
       "      <td>0</td>\n",
       "      <td>3</td>\n",
       "      <td>1</td>\n",
       "      <td>3</td>\n",
       "      <td>6</td>\n",
       "      <td>0</td>\n",
       "      <td>0</td>\n",
       "      <td>81.0</td>\n",
       "      <td>1</td>\n",
       "      <td>1</td>\n",
       "      <td>450</td>\n",
       "      <td>3</td>\n",
       "      <td>3</td>\n",
       "      <td>0</td>\n",
       "      <td>0</td>\n",
       "      <td>112</td>\n",
       "      <td>0</td>\n",
       "      <td>120</td>\n",
       "      <td>0</td>\n",
       "      <td>3</td>\n",
       "      <td>620</td>\n",
       "      <td>7</td>\n",
       "      <td>True</td>\n",
       "      <td>False</td>\n",
       "      <td>False</td>\n",
       "      <td>False</td>\n",
       "      <td>True</td>\n",
       "      <td>False</td>\n",
       "      <td>False</td>\n",
       "      <td>False</td>\n",
       "      <td>False</td>\n",
       "      <td>True</td>\n",
       "      <td>False</td>\n",
       "      <td>False</td>\n",
       "      <td>False</td>\n",
       "      <td>False</td>\n",
       "      <td>False</td>\n",
       "      <td>False</td>\n",
       "    </tr>\n",
       "  </tbody>\n",
       "</table>\n",
       "</div>"
      ],
      "text/plain": [
       "     LotFrontage  LotArea  OverallQual  OverallCond  YearBuilt  YearRemodAdd   \n",
       "912         51.0     6120            5            7         81            56  \\\n",
       "\n",
       "     MasVnrArea  ExterQual  ExterCond  BsmtQual  BsmtCond  BsmtExposure   \n",
       "912         0.0          3          3         3         3             1  \\\n",
       "\n",
       "     BsmtFinType1  BsmtFinSF1  BsmtFinType2  BsmtFinSF2  BsmtUnfSF   \n",
       "912             3         489             1           0        279  \\\n",
       "\n",
       "     TotalBsmtSF  HeatingQC  1stFlrSF  2ndFlrSF  LowQualFinSF  GrLivArea   \n",
       "912          768          3      1015         0             0       1015  \\\n",
       "\n",
       "     BsmtFullBath  BsmtHalfBath  FullBath  HalfBath  BedroomAbvGr   \n",
       "912             0             0         1         0             3  \\\n",
       "\n",
       "     KitchenAbvGr  KitchenQual  TotRmsAbvGrd  Fireplaces  FireplaceQu   \n",
       "912             1            3             6           0            0  \\\n",
       "\n",
       "     GarageYrBlt  GarageFinish  GarageCars  GarageArea  GarageQual   \n",
       "912         81.0             1           1         450           3  \\\n",
       "\n",
       "     GarageCond  WoodDeckSF  OpenPorchSF  EnclosedPorch  3SsnPorch   \n",
       "912           3           0            0            112          0  \\\n",
       "\n",
       "     ScreenPorch  PoolArea  Fence  MiscVal  MoSold  Alley_Missing  Alley_Pave   \n",
       "912          120         0      3      620       7           True       False  \\\n",
       "\n",
       "     LandContour_HLS  LandContour_Low  LandContour_Lvl  BldgType_2fmCon   \n",
       "912            False            False             True            False  \\\n",
       "\n",
       "     BldgType_Duplex  BldgType_Twnhs  BldgType_TwnhsE  HouseStyle_1Story   \n",
       "912            False           False            False               True  \\\n",
       "\n",
       "     HouseStyle_2Story  HouseStyle_Rare  HouseStyle_SFoyer  HouseStyle_SLvl   \n",
       "912              False            False              False            False  \\\n",
       "\n",
       "     RoofStyle_Hip  RoofStyle_Rare  \n",
       "912          False           False  "
      ]
     },
     "execution_count": 41,
     "metadata": {},
     "output_type": "execute_result"
    }
   ],
   "source": [
    "X_train.head(1)"
   ]
  },
  {
   "cell_type": "code",
   "execution_count": 42,
   "metadata": {},
   "outputs": [],
   "source": [
    "test_ohe=pd.get_dummies(X_test[cat_others], prefix=cat_others, drop_first=True)\n",
    "X_test=pd.concat([X_test,test_ohe], axis=1)"
   ]
  },
  {
   "cell_type": "code",
   "execution_count": 43,
   "metadata": {},
   "outputs": [],
   "source": [
    "X_test.drop(cat_others, axis=1, inplace=True)"
   ]
  },
  {
   "cell_type": "code",
   "execution_count": 44,
   "metadata": {},
   "outputs": [
    {
     "data": {
      "text/html": [
       "<div>\n",
       "<style scoped>\n",
       "    .dataframe tbody tr th:only-of-type {\n",
       "        vertical-align: middle;\n",
       "    }\n",
       "\n",
       "    .dataframe tbody tr th {\n",
       "        vertical-align: top;\n",
       "    }\n",
       "\n",
       "    .dataframe thead th {\n",
       "        text-align: right;\n",
       "    }\n",
       "</style>\n",
       "<table border=\"1\" class=\"dataframe\">\n",
       "  <thead>\n",
       "    <tr style=\"text-align: right;\">\n",
       "      <th></th>\n",
       "      <th>LotFrontage</th>\n",
       "      <th>LotArea</th>\n",
       "      <th>OverallQual</th>\n",
       "      <th>OverallCond</th>\n",
       "      <th>YearBuilt</th>\n",
       "      <th>YearRemodAdd</th>\n",
       "      <th>MasVnrArea</th>\n",
       "      <th>ExterQual</th>\n",
       "      <th>ExterCond</th>\n",
       "      <th>BsmtQual</th>\n",
       "      <th>BsmtCond</th>\n",
       "      <th>BsmtExposure</th>\n",
       "      <th>BsmtFinType1</th>\n",
       "      <th>BsmtFinSF1</th>\n",
       "      <th>BsmtFinType2</th>\n",
       "      <th>BsmtFinSF2</th>\n",
       "      <th>BsmtUnfSF</th>\n",
       "      <th>TotalBsmtSF</th>\n",
       "      <th>HeatingQC</th>\n",
       "      <th>1stFlrSF</th>\n",
       "      <th>2ndFlrSF</th>\n",
       "      <th>LowQualFinSF</th>\n",
       "      <th>GrLivArea</th>\n",
       "      <th>BsmtFullBath</th>\n",
       "      <th>BsmtHalfBath</th>\n",
       "      <th>FullBath</th>\n",
       "      <th>HalfBath</th>\n",
       "      <th>BedroomAbvGr</th>\n",
       "      <th>KitchenAbvGr</th>\n",
       "      <th>KitchenQual</th>\n",
       "      <th>TotRmsAbvGrd</th>\n",
       "      <th>Fireplaces</th>\n",
       "      <th>FireplaceQu</th>\n",
       "      <th>GarageYrBlt</th>\n",
       "      <th>GarageFinish</th>\n",
       "      <th>GarageCars</th>\n",
       "      <th>GarageArea</th>\n",
       "      <th>GarageQual</th>\n",
       "      <th>GarageCond</th>\n",
       "      <th>WoodDeckSF</th>\n",
       "      <th>OpenPorchSF</th>\n",
       "      <th>EnclosedPorch</th>\n",
       "      <th>3SsnPorch</th>\n",
       "      <th>ScreenPorch</th>\n",
       "      <th>PoolArea</th>\n",
       "      <th>Fence</th>\n",
       "      <th>MiscVal</th>\n",
       "      <th>MoSold</th>\n",
       "      <th>Alley_Missing</th>\n",
       "      <th>Alley_Pave</th>\n",
       "      <th>LandContour_HLS</th>\n",
       "      <th>LandContour_Low</th>\n",
       "      <th>LandContour_Lvl</th>\n",
       "      <th>BldgType_2fmCon</th>\n",
       "      <th>BldgType_Duplex</th>\n",
       "      <th>BldgType_Twnhs</th>\n",
       "      <th>BldgType_TwnhsE</th>\n",
       "      <th>HouseStyle_1Story</th>\n",
       "      <th>HouseStyle_2Story</th>\n",
       "      <th>HouseStyle_Rare</th>\n",
       "      <th>HouseStyle_SFoyer</th>\n",
       "      <th>HouseStyle_SLvl</th>\n",
       "      <th>RoofStyle_Hip</th>\n",
       "      <th>RoofStyle_Rare</th>\n",
       "    </tr>\n",
       "  </thead>\n",
       "  <tbody>\n",
       "    <tr>\n",
       "      <th>854</th>\n",
       "      <td>102.0</td>\n",
       "      <td>17920</td>\n",
       "      <td>5</td>\n",
       "      <td>4</td>\n",
       "      <td>51</td>\n",
       "      <td>32</td>\n",
       "      <td>0.0</td>\n",
       "      <td>3</td>\n",
       "      <td>3</td>\n",
       "      <td>3</td>\n",
       "      <td>3</td>\n",
       "      <td>2</td>\n",
       "      <td>5</td>\n",
       "      <td>306</td>\n",
       "      <td>3</td>\n",
       "      <td>1085</td>\n",
       "      <td>372</td>\n",
       "      <td>1763</td>\n",
       "      <td>3</td>\n",
       "      <td>1779</td>\n",
       "      <td>0</td>\n",
       "      <td>0</td>\n",
       "      <td>1779</td>\n",
       "      <td>1</td>\n",
       "      <td>0</td>\n",
       "      <td>1</td>\n",
       "      <td>1</td>\n",
       "      <td>3</td>\n",
       "      <td>1</td>\n",
       "      <td>3</td>\n",
       "      <td>6</td>\n",
       "      <td>1</td>\n",
       "      <td>4</td>\n",
       "      <td>51.0</td>\n",
       "      <td>1</td>\n",
       "      <td>2</td>\n",
       "      <td>454</td>\n",
       "      <td>3</td>\n",
       "      <td>3</td>\n",
       "      <td>0</td>\n",
       "      <td>418</td>\n",
       "      <td>0</td>\n",
       "      <td>0</td>\n",
       "      <td>312</td>\n",
       "      <td>0</td>\n",
       "      <td>0</td>\n",
       "      <td>0</td>\n",
       "      <td>7</td>\n",
       "      <td>True</td>\n",
       "      <td>False</td>\n",
       "      <td>False</td>\n",
       "      <td>False</td>\n",
       "      <td>True</td>\n",
       "      <td>False</td>\n",
       "      <td>False</td>\n",
       "      <td>False</td>\n",
       "      <td>False</td>\n",
       "      <td>True</td>\n",
       "      <td>False</td>\n",
       "      <td>False</td>\n",
       "      <td>False</td>\n",
       "      <td>False</td>\n",
       "      <td>True</td>\n",
       "      <td>False</td>\n",
       "    </tr>\n",
       "  </tbody>\n",
       "</table>\n",
       "</div>"
      ],
      "text/plain": [
       "     LotFrontage  LotArea  OverallQual  OverallCond  YearBuilt  YearRemodAdd   \n",
       "854        102.0    17920            5            4         51            32  \\\n",
       "\n",
       "     MasVnrArea  ExterQual  ExterCond  BsmtQual  BsmtCond  BsmtExposure   \n",
       "854         0.0          3          3         3         3             2  \\\n",
       "\n",
       "     BsmtFinType1  BsmtFinSF1  BsmtFinType2  BsmtFinSF2  BsmtUnfSF   \n",
       "854             5         306             3        1085        372  \\\n",
       "\n",
       "     TotalBsmtSF  HeatingQC  1stFlrSF  2ndFlrSF  LowQualFinSF  GrLivArea   \n",
       "854         1763          3      1779         0             0       1779  \\\n",
       "\n",
       "     BsmtFullBath  BsmtHalfBath  FullBath  HalfBath  BedroomAbvGr   \n",
       "854             1             0         1         1             3  \\\n",
       "\n",
       "     KitchenAbvGr  KitchenQual  TotRmsAbvGrd  Fireplaces  FireplaceQu   \n",
       "854             1            3             6           1            4  \\\n",
       "\n",
       "     GarageYrBlt  GarageFinish  GarageCars  GarageArea  GarageQual   \n",
       "854         51.0             1           2         454           3  \\\n",
       "\n",
       "     GarageCond  WoodDeckSF  OpenPorchSF  EnclosedPorch  3SsnPorch   \n",
       "854           3           0          418              0          0  \\\n",
       "\n",
       "     ScreenPorch  PoolArea  Fence  MiscVal  MoSold  Alley_Missing  Alley_Pave   \n",
       "854          312         0      0        0       7           True       False  \\\n",
       "\n",
       "     LandContour_HLS  LandContour_Low  LandContour_Lvl  BldgType_2fmCon   \n",
       "854            False            False             True            False  \\\n",
       "\n",
       "     BldgType_Duplex  BldgType_Twnhs  BldgType_TwnhsE  HouseStyle_1Story   \n",
       "854            False           False            False               True  \\\n",
       "\n",
       "     HouseStyle_2Story  HouseStyle_Rare  HouseStyle_SFoyer  HouseStyle_SLvl   \n",
       "854              False            False              False            False  \\\n",
       "\n",
       "     RoofStyle_Hip  RoofStyle_Rare  \n",
       "854           True           False  "
      ]
     },
     "execution_count": 44,
     "metadata": {},
     "output_type": "execute_result"
    }
   ],
   "source": [
    "X_test.head(1)"
   ]
  },
  {
   "cell_type": "code",
   "execution_count": 45,
   "metadata": {},
   "outputs": [
    {
     "data": {
      "text/plain": [
       "array([ True,  True,  True,  True,  True,  True,  True,  True,  True,\n",
       "        True,  True,  True,  True,  True,  True,  True,  True,  True,\n",
       "        True,  True,  True,  True,  True,  True,  True,  True,  True,\n",
       "        True,  True,  True,  True,  True,  True,  True,  True,  True,\n",
       "        True,  True,  True,  True,  True,  True,  True,  True,  True,\n",
       "        True,  True,  True,  True,  True,  True,  True,  True,  True,\n",
       "        True,  True,  True,  True,  True,  True,  True,  True,  True,\n",
       "        True])"
      ]
     },
     "execution_count": 45,
     "metadata": {},
     "output_type": "execute_result"
    }
   ],
   "source": [
    "X_train.columns==X_test.columns"
   ]
  },
  {
   "cell_type": "code",
   "execution_count": 46,
   "metadata": {},
   "outputs": [
    {
     "data": {
      "text/plain": [
       "[]"
      ]
     },
     "execution_count": 46,
     "metadata": {},
     "output_type": "execute_result"
    }
   ],
   "source": [
    "# check absence of na in the train set\n",
    "[var for var in X_train.columns if X_train[var].isnull().sum() > 0]"
   ]
  },
  {
   "cell_type": "code",
   "execution_count": 47,
   "metadata": {},
   "outputs": [
    {
     "data": {
      "text/plain": [
       "[]"
      ]
     },
     "execution_count": 47,
     "metadata": {},
     "output_type": "execute_result"
    }
   ],
   "source": [
    "# check absence of na in the test set\n",
    "[var for var in X_test.columns if X_test[var].isnull().sum() > 0]"
   ]
  },
  {
   "cell_type": "code",
   "execution_count": null,
   "metadata": {},
   "outputs": [],
   "source": []
  },
  {
   "cell_type": "markdown",
   "metadata": {},
   "source": [
    "### Feature Scaling\n",
    "Now we know all variables in our two datasets (i.e. the training and test sets) are numerical, the final step in this exercise is to apply scaling by making sure the minimum value in each variable is 0 and the maximum value is 1. For this step, you can use MinMaxScaler() from sci-kit learn. Make sure you apply it correctly by transforming the test set based on the training set. "
   ]
  },
  {
   "cell_type": "code",
   "execution_count": 48,
   "metadata": {},
   "outputs": [],
   "source": [
    "# Make sure you do it correctly\n",
    "scaler=MinMaxScaler()\n",
    "m=scaler.fit(X_train)\n",
    "X_train=m.transform(X_train)\n",
    "X_test=m.transform(X_test)"
   ]
  },
  {
   "cell_type": "code",
   "execution_count": 49,
   "metadata": {},
   "outputs": [
    {
     "name": "stdout",
     "output_type": "stream",
     "text": [
      "0.24977436797009805\n",
      "0.24727781373321087\n"
     ]
    }
   ],
   "source": [
    "print(X_train.mean().mean())\n",
    "print(X_test.mean().mean())"
   ]
  }
 ],
 "metadata": {
  "kernelspec": {
   "display_name": "Python 3 (ipykernel)",
   "language": "python",
   "name": "python3"
  },
  "language_info": {
   "codemirror_mode": {
    "name": "ipython",
    "version": 3
   },
   "file_extension": ".py",
   "mimetype": "text/x-python",
   "name": "python",
   "nbconvert_exporter": "python",
   "pygments_lexer": "ipython3",
   "version": "3.10.9"
  },
  "toc": {
   "base_numbering": 1,
   "nav_menu": {},
   "number_sections": true,
   "sideBar": true,
   "skip_h1_title": false,
   "title_cell": "Table of Contents",
   "title_sidebar": "Contents",
   "toc_cell": false,
   "toc_position": {
    "height": "583px",
    "left": "0px",
    "right": "1324px",
    "top": "107px",
    "width": "212px"
   },
   "toc_section_display": "block",
   "toc_window_display": true
  }
 },
 "nbformat": 4,
 "nbformat_minor": 4
}
